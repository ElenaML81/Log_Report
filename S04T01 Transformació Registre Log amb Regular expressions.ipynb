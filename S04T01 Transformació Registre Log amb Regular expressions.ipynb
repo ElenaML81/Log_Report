{
 "cells": [
  {
   "cell_type": "markdown",
   "id": "a1c2be48",
   "metadata": {},
   "source": [
    "### S04 T01: Transformació Registre Log amb Regular expressions"
   ]
  },
  {
   "cell_type": "markdown",
   "id": "343c2ba3",
   "metadata": {},
   "source": [
    "***- Exercici 1***"
   ]
  },
  {
   "cell_type": "markdown",
   "id": "bfd8c3f4",
   "metadata": {},
   "source": [
    "+ Estandaritza, identifica i enumera cada un dels atributs / variables de l'estructura de l'arxiu \"Web_access_log-akumenius.com\" que trobaràs al repositori de GitHub \"Data-sources\"."
   ]
  },
  {
   "cell_type": "code",
   "execution_count": 57,
   "id": "eee824f6",
   "metadata": {
    "ExecuteTime": {
     "end_time": "2022-02-23T10:48:17.968492Z",
     "start_time": "2022-02-23T10:48:17.950999Z"
    }
   },
   "outputs": [],
   "source": [
    "import pandas as pd\n",
    "import matplotlib.pyplot as plt\n",
    "%matplotlib inline\n",
    "import numpy as np\n",
    "import warnings\n",
    "import re"
   ]
  },
  {
   "cell_type": "code",
   "execution_count": 58,
   "id": "8947afcf",
   "metadata": {
    "ExecuteTime": {
     "end_time": "2022-02-23T10:48:19.199513Z",
     "start_time": "2022-02-23T10:48:17.971502Z"
    }
   },
   "outputs": [
    {
     "data": {
      "text/html": [
       "<div>\n",
       "<style scoped>\n",
       "    .dataframe tbody tr th:only-of-type {\n",
       "        vertical-align: middle;\n",
       "    }\n",
       "\n",
       "    .dataframe tbody tr th {\n",
       "        vertical-align: top;\n",
       "    }\n",
       "\n",
       "    .dataframe thead th {\n",
       "        text-align: right;\n",
       "    }\n",
       "</style>\n",
       "<table border=\"1\" class=\"dataframe\">\n",
       "  <thead>\n",
       "    <tr style=\"text-align: right;\">\n",
       "      <th></th>\n",
       "      <th>info</th>\n",
       "    </tr>\n",
       "  </thead>\n",
       "  <tbody>\n",
       "    <tr>\n",
       "      <th>21</th>\n",
       "      <td>localhost 127.0.0.1 - - [23/Feb/2014:03:10:31 +0100] \"OPTIONS * HTTP/1.0\" 200 - \"-\" \"Apache (internal dummy connection)\" VLOG=-</td>\n",
       "    </tr>\n",
       "    <tr>\n",
       "      <th>22</th>\n",
       "      <td>www.akumenius.com 66.249.76.216 - - [23/Feb/2014:03:10:31 +0100] \"GET /hoteles-baratos/ofertas-hotel-Club-&amp;-Hotel-Letoonia--en-Fethiye-8460b-destinos.html HTTP/1.1\" 404 3100 \"-\" \"Mozilla/5.0 (compatible; Googlebot/2.1; +http://www.google.com/bot.html)\" VLOG=-</td>\n",
       "    </tr>\n",
       "    <tr>\n",
       "      <th>23</th>\n",
       "      <td>www.akumenius.com 66.249.76.216 - - [23/Feb/2014:03:10:33 +0100] \"GET /hoteles-baratos/ofertas-hotel-Metropolis-Hotel-en-Kaunas-210244b-destinos.html HTTP/1.1\" 404 3100 \"-\" \"Mozilla/5.0 (compatible; Googlebot/2.1; +http://www.google.com/bot.html)\" VLOG=-</td>\n",
       "    </tr>\n",
       "  </tbody>\n",
       "</table>\n",
       "</div>"
      ],
      "text/plain": [
       "                                                                                                                                                                                                                                                                   info\n",
       "21                                                                                                                                      localhost 127.0.0.1 - - [23/Feb/2014:03:10:31 +0100] \"OPTIONS * HTTP/1.0\" 200 - \"-\" \"Apache (internal dummy connection)\" VLOG=-\n",
       "22  www.akumenius.com 66.249.76.216 - - [23/Feb/2014:03:10:31 +0100] \"GET /hoteles-baratos/ofertas-hotel-Club-&-Hotel-Letoonia--en-Fethiye-8460b-destinos.html HTTP/1.1\" 404 3100 \"-\" \"Mozilla/5.0 (compatible; Googlebot/2.1; +http://www.google.com/bot.html)\" VLOG=-\n",
       "23       www.akumenius.com 66.249.76.216 - - [23/Feb/2014:03:10:33 +0100] \"GET /hoteles-baratos/ofertas-hotel-Metropolis-Hotel-en-Kaunas-210244b-destinos.html HTTP/1.1\" 404 3100 \"-\" \"Mozilla/5.0 (compatible; Googlebot/2.1; +http://www.google.com/bot.html)\" VLOG=-"
      ]
     },
     "execution_count": 58,
     "metadata": {},
     "output_type": "execute_result"
    }
   ],
   "source": [
    "pd.set_option('display.max_columns', None, 'display.max_colwidth', None)\n",
    "colname = ['info']\n",
    "data = pd.read_csv('Web_access_log-akumenius.com.txt', sep = 'delimiter', header =None, \n",
    "                   engine = 'python', names = colname)\n",
    "data[21:24]"
   ]
  },
  {
   "cell_type": "code",
   "execution_count": 59,
   "id": "1a6a7ea5",
   "metadata": {
    "ExecuteTime": {
     "end_time": "2022-02-23T10:48:21.963754Z",
     "start_time": "2022-02-23T10:48:19.201520Z"
    }
   },
   "outputs": [
    {
     "data": {
      "text/html": [
       "<div>\n",
       "<style scoped>\n",
       "    .dataframe tbody tr th:only-of-type {\n",
       "        vertical-align: middle;\n",
       "    }\n",
       "\n",
       "    .dataframe tbody tr th {\n",
       "        vertical-align: top;\n",
       "    }\n",
       "\n",
       "    .dataframe thead th {\n",
       "        text-align: right;\n",
       "    }\n",
       "</style>\n",
       "<table border=\"1\" class=\"dataframe\">\n",
       "  <thead>\n",
       "    <tr style=\"text-align: right;\">\n",
       "      <th></th>\n",
       "      <th>0</th>\n",
       "      <th>1</th>\n",
       "      <th>2</th>\n",
       "      <th>3</th>\n",
       "      <th>4</th>\n",
       "      <th>5</th>\n",
       "      <th>6</th>\n",
       "      <th>7</th>\n",
       "      <th>8</th>\n",
       "      <th>9</th>\n",
       "      <th>10</th>\n",
       "      <th>11</th>\n",
       "      <th>12</th>\n",
       "      <th>13</th>\n",
       "      <th>14</th>\n",
       "      <th>15</th>\n",
       "      <th>16</th>\n",
       "      <th>17</th>\n",
       "      <th>18</th>\n",
       "      <th>19</th>\n",
       "      <th>20</th>\n",
       "      <th>21</th>\n",
       "      <th>22</th>\n",
       "      <th>23</th>\n",
       "      <th>24</th>\n",
       "    </tr>\n",
       "  </thead>\n",
       "  <tbody>\n",
       "    <tr>\n",
       "      <th>21</th>\n",
       "      <td></td>\n",
       "      <td>localhost</td>\n",
       "      <td></td>\n",
       "      <td>127.0.0.1</td>\n",
       "      <td></td>\n",
       "      <td>-</td>\n",
       "      <td></td>\n",
       "      <td>-</td>\n",
       "      <td></td>\n",
       "      <td>[23/Feb/2014:03:10:31</td>\n",
       "      <td></td>\n",
       "      <td>+0100]</td>\n",
       "      <td></td>\n",
       "      <td>\"OPTIONS</td>\n",
       "      <td></td>\n",
       "      <td>*</td>\n",
       "      <td></td>\n",
       "      <td>HTTP/1.0\"</td>\n",
       "      <td></td>\n",
       "      <td>200</td>\n",
       "      <td></td>\n",
       "      <td>-</td>\n",
       "      <td></td>\n",
       "      <td>\"-\"</td>\n",
       "      <td>\"Apache (internal dummy connection)\" VLOG=-</td>\n",
       "    </tr>\n",
       "    <tr>\n",
       "      <th>22</th>\n",
       "      <td></td>\n",
       "      <td>www.akumenius.com</td>\n",
       "      <td></td>\n",
       "      <td>66.249.76.216</td>\n",
       "      <td></td>\n",
       "      <td>-</td>\n",
       "      <td></td>\n",
       "      <td>-</td>\n",
       "      <td></td>\n",
       "      <td>[23/Feb/2014:03:10:31</td>\n",
       "      <td></td>\n",
       "      <td>+0100]</td>\n",
       "      <td></td>\n",
       "      <td>\"GET</td>\n",
       "      <td></td>\n",
       "      <td>/hoteles-baratos/ofertas-hotel-Club-&amp;-Hotel-Letoonia--en-Fethiye-8460b-destinos.html</td>\n",
       "      <td></td>\n",
       "      <td>HTTP/1.1\"</td>\n",
       "      <td></td>\n",
       "      <td>404</td>\n",
       "      <td></td>\n",
       "      <td>3100</td>\n",
       "      <td></td>\n",
       "      <td>\"-\"</td>\n",
       "      <td>\"Mozilla/5.0 (compatible; Googlebot/2.1; +http://www.google.com/bot.html)\" VLOG=-</td>\n",
       "    </tr>\n",
       "    <tr>\n",
       "      <th>23</th>\n",
       "      <td></td>\n",
       "      <td>www.akumenius.com</td>\n",
       "      <td></td>\n",
       "      <td>66.249.76.216</td>\n",
       "      <td></td>\n",
       "      <td>-</td>\n",
       "      <td></td>\n",
       "      <td>-</td>\n",
       "      <td></td>\n",
       "      <td>[23/Feb/2014:03:10:33</td>\n",
       "      <td></td>\n",
       "      <td>+0100]</td>\n",
       "      <td></td>\n",
       "      <td>\"GET</td>\n",
       "      <td></td>\n",
       "      <td>/hoteles-baratos/ofertas-hotel-Metropolis-Hotel-en-Kaunas-210244b-destinos.html</td>\n",
       "      <td></td>\n",
       "      <td>HTTP/1.1\"</td>\n",
       "      <td></td>\n",
       "      <td>404</td>\n",
       "      <td></td>\n",
       "      <td>3100</td>\n",
       "      <td></td>\n",
       "      <td>\"-\"</td>\n",
       "      <td>\"Mozilla/5.0 (compatible; Googlebot/2.1; +http://www.google.com/bot.html)\" VLOG=-</td>\n",
       "    </tr>\n",
       "  </tbody>\n",
       "</table>\n",
       "</div>"
      ],
      "text/plain": [
       "   0                  1  2              3  4  5  6  7  8   \\\n",
       "21             localhost         127.0.0.1     -     -      \n",
       "22     www.akumenius.com     66.249.76.216     -     -      \n",
       "23     www.akumenius.com     66.249.76.216     -     -      \n",
       "\n",
       "                       9  10      11 12        13 14  \\\n",
       "21  [23/Feb/2014:03:10:31     +0100]     \"OPTIONS      \n",
       "22  [23/Feb/2014:03:10:31     +0100]         \"GET      \n",
       "23  [23/Feb/2014:03:10:33     +0100]         \"GET      \n",
       "\n",
       "                                                                                      15  \\\n",
       "21                                                                                     *   \n",
       "22  /hoteles-baratos/ofertas-hotel-Club-&-Hotel-Letoonia--en-Fethiye-8460b-destinos.html   \n",
       "23       /hoteles-baratos/ofertas-hotel-Metropolis-Hotel-en-Kaunas-210244b-destinos.html   \n",
       "\n",
       "   16         17 18   19 20    21 22   23  \\\n",
       "21     HTTP/1.0\"     200        -     \"-\"   \n",
       "22     HTTP/1.1\"     404     3100     \"-\"   \n",
       "23     HTTP/1.1\"     404     3100     \"-\"   \n",
       "\n",
       "                                                                                    24  \n",
       "21                                         \"Apache (internal dummy connection)\" VLOG=-  \n",
       "22   \"Mozilla/5.0 (compatible; Googlebot/2.1; +http://www.google.com/bot.html)\" VLOG=-  \n",
       "23   \"Mozilla/5.0 (compatible; Googlebot/2.1; +http://www.google.com/bot.html)\" VLOG=-  "
      ]
     },
     "execution_count": 59,
     "metadata": {},
     "output_type": "execute_result"
    }
   ],
   "source": [
    "# first we split the column info by the whitespace, using the metacharacter + (one or more ocurrencies), \n",
    "#for convenience we limit the number of splits to 12\n",
    "df1 = data['info'].str.split(r'([^\\s]+)',12, expand= True)\n",
    "df1[21:24]"
   ]
  },
  {
   "cell_type": "markdown",
   "id": "c59a74ba",
   "metadata": {},
   "source": [
    "We may have some columns that contain no info, we will do a for loop for unique elements of each column and then delete those ones that are empty or have the same element repeated in all rows.\n",
    "\n",
    "We ´ll define a function to do that, in case we have to use it more times."
   ]
  },
  {
   "cell_type": "code",
   "execution_count": 60,
   "id": "6ca6385e",
   "metadata": {
    "ExecuteTime": {
     "end_time": "2022-02-23T10:48:21.978915Z",
     "start_time": "2022-02-23T10:48:21.965953Z"
    }
   },
   "outputs": [],
   "source": [
    "def check_empty(df, index_list): \n",
    "    for i in range(len(df.columns)):\n",
    "        if i in index_list: \n",
    "            continue \n",
    "        else:\n",
    "            print(df.iloc[:,i].unique(), i)"
   ]
  },
  {
   "cell_type": "code",
   "execution_count": 61,
   "id": "51705a53",
   "metadata": {
    "ExecuteTime": {
     "end_time": "2022-02-23T10:48:22.184076Z",
     "start_time": "2022-02-23T10:48:21.981642Z"
    }
   },
   "outputs": [
    {
     "name": "stdout",
     "output_type": "stream",
     "text": [
      "[''] 0\n",
      "[' '] 2\n",
      "[' '] 4\n",
      "['-'] 5\n",
      "[' '] 6\n",
      "['-' 'clarcat'] 7\n",
      "[' '] 8\n",
      "[' '] 10\n",
      "[' '] 12\n",
      "[' '] 14\n",
      "[' '] 16\n",
      "[' '] 18\n",
      "[' '] 20\n",
      "[' '] 22\n",
      "['\"-\"'\n",
      " '\"http://www.akumenius.com/hoteles-baratos/ofertas-hotel-Playa-Blanca-All-Inclusive-en-Cayo%20Largo_CUBA-62359b.html\"'\n",
      " '\"http://www.akumenius.com/\"' ...\n",
      " '\"http://www.akumenius.com/booking/152186/t/BARCELO%20DOMINICAN%20BEACH/4\"'\n",
      " '\"http://www.akumenius.com/hotelDetailPopup/49612/b\"'\n",
      " '\"http://www.akumenius.com/destinos-baratos/destinos-caracteristicas/hoteles-baratos-en-Phuket_TAILANDIA-con-Windsurf\"'] 23\n"
     ]
    }
   ],
   "source": [
    "# we dont want to loop through some columns that obviously contain info, we include the index of this \n",
    "# columns in a list \n",
    "index_list = [1,3,9,11,13,15,17,19,21,24]\n",
    "# now we call the fucntion \n",
    "check_empty(df1, index_list)"
   ]
  },
  {
   "cell_type": "markdown",
   "id": "b0557f6d",
   "metadata": {},
   "source": [
    "In column with index 7 we have some rows that have the string 'clarcat', let's check some of that rows: "
   ]
  },
  {
   "cell_type": "code",
   "execution_count": 62,
   "id": "1430b957",
   "metadata": {
    "ExecuteTime": {
     "end_time": "2022-02-23T10:48:22.214932Z",
     "start_time": "2022-02-23T10:48:22.186151Z"
    }
   },
   "outputs": [
    {
     "data": {
      "text/plain": [
       "-          261846\n",
       "clarcat        27\n",
       "Name: 7, dtype: int64"
      ]
     },
     "execution_count": 62,
     "metadata": {},
     "output_type": "execute_result"
    }
   ],
   "source": [
    "df1.iloc[:, 7].value_counts()"
   ]
  },
  {
   "cell_type": "markdown",
   "id": "62cada62",
   "metadata": {},
   "source": [
    "We have this info in 27 rows, we will locate the rows to take a look: "
   ]
  },
  {
   "cell_type": "code",
   "execution_count": 63,
   "id": "73f7a3f2",
   "metadata": {
    "ExecuteTime": {
     "end_time": "2022-02-23T10:48:22.262154Z",
     "start_time": "2022-02-23T10:48:22.216996Z"
    }
   },
   "outputs": [
    {
     "data": {
      "text/plain": [
       "[51797,\n",
       " 51799,\n",
       " 51809,\n",
       " 51905,\n",
       " 51906,\n",
       " 51907,\n",
       " 51923,\n",
       " 51924,\n",
       " 51926,\n",
       " 51939,\n",
       " 51940,\n",
       " 51943,\n",
       " 97210,\n",
       " 97211,\n",
       " 97215,\n",
       " 153621,\n",
       " 153622,\n",
       " 153631,\n",
       " 195142,\n",
       " 195143,\n",
       " 195149,\n",
       " 196484,\n",
       " 196486,\n",
       " 196488,\n",
       " 230605,\n",
       " 230606,\n",
       " 230610]"
      ]
     },
     "execution_count": 63,
     "metadata": {},
     "output_type": "execute_result"
    }
   ],
   "source": [
    "df1[df1.iloc[:, 7] == 'clarcat'].index.tolist()"
   ]
  },
  {
   "cell_type": "code",
   "execution_count": 64,
   "id": "17bd9380",
   "metadata": {
    "ExecuteTime": {
     "end_time": "2022-02-23T10:48:22.292627Z",
     "start_time": "2022-02-23T10:48:22.264062Z"
    }
   },
   "outputs": [
    {
     "data": {
      "text/html": [
       "<div>\n",
       "<style scoped>\n",
       "    .dataframe tbody tr th:only-of-type {\n",
       "        vertical-align: middle;\n",
       "    }\n",
       "\n",
       "    .dataframe tbody tr th {\n",
       "        vertical-align: top;\n",
       "    }\n",
       "\n",
       "    .dataframe thead th {\n",
       "        text-align: right;\n",
       "    }\n",
       "</style>\n",
       "<table border=\"1\" class=\"dataframe\">\n",
       "  <thead>\n",
       "    <tr style=\"text-align: right;\">\n",
       "      <th></th>\n",
       "      <th>0</th>\n",
       "      <th>1</th>\n",
       "      <th>2</th>\n",
       "      <th>3</th>\n",
       "      <th>4</th>\n",
       "      <th>5</th>\n",
       "      <th>6</th>\n",
       "      <th>7</th>\n",
       "      <th>8</th>\n",
       "      <th>9</th>\n",
       "      <th>10</th>\n",
       "      <th>11</th>\n",
       "      <th>12</th>\n",
       "      <th>13</th>\n",
       "      <th>14</th>\n",
       "      <th>15</th>\n",
       "      <th>16</th>\n",
       "      <th>17</th>\n",
       "      <th>18</th>\n",
       "      <th>19</th>\n",
       "      <th>20</th>\n",
       "      <th>21</th>\n",
       "      <th>22</th>\n",
       "      <th>23</th>\n",
       "      <th>24</th>\n",
       "    </tr>\n",
       "  </thead>\n",
       "  <tbody>\n",
       "    <tr>\n",
       "      <th>51923</th>\n",
       "      <td></td>\n",
       "      <td>www.akumenius.com</td>\n",
       "      <td></td>\n",
       "      <td>80.28.221.123</td>\n",
       "      <td></td>\n",
       "      <td>-</td>\n",
       "      <td></td>\n",
       "      <td>clarcat</td>\n",
       "      <td></td>\n",
       "      <td>[24/Feb/2014:09:55:54</td>\n",
       "      <td></td>\n",
       "      <td>+0100]</td>\n",
       "      <td></td>\n",
       "      <td>\"GET</td>\n",
       "      <td></td>\n",
       "      <td>/awstats.pl?month=02&amp;year=2012&amp;output=main&amp;config=www.akumenius.com&amp;framename=index</td>\n",
       "      <td></td>\n",
       "      <td>HTTP/1.1\"</td>\n",
       "      <td></td>\n",
       "      <td>200</td>\n",
       "      <td></td>\n",
       "      <td>1146</td>\n",
       "      <td></td>\n",
       "      <td>\"http://www.akumenius.com/awstats.pl?month=02&amp;year=2013&amp;output=main&amp;config=www.akumenius.com&amp;framename=mainright\"</td>\n",
       "      <td>\"Mozilla/5.0 (X11; U; Linux i686; ca; rv:1.9.2.17) Gecko/20110428 Fedora/3.6.17-1.fc13 Firefox/3.6.17\" VLOG=-</td>\n",
       "    </tr>\n",
       "    <tr>\n",
       "      <th>51924</th>\n",
       "      <td></td>\n",
       "      <td>www.akumenius.com</td>\n",
       "      <td></td>\n",
       "      <td>80.28.221.123</td>\n",
       "      <td></td>\n",
       "      <td>-</td>\n",
       "      <td></td>\n",
       "      <td>clarcat</td>\n",
       "      <td></td>\n",
       "      <td>[24/Feb/2014:09:55:54</td>\n",
       "      <td></td>\n",
       "      <td>+0100]</td>\n",
       "      <td></td>\n",
       "      <td>\"GET</td>\n",
       "      <td></td>\n",
       "      <td>/awstats.pl?month=02&amp;year=2012&amp;output=main&amp;config=www.akumenius.com&amp;framename=mainleft</td>\n",
       "      <td></td>\n",
       "      <td>HTTP/1.1\"</td>\n",
       "      <td></td>\n",
       "      <td>200</td>\n",
       "      <td></td>\n",
       "      <td>12249</td>\n",
       "      <td></td>\n",
       "      <td>\"http://www.akumenius.com/awstats.pl?month=02&amp;year=2012&amp;output=main&amp;config=www.akumenius.com&amp;framename=index\"</td>\n",
       "      <td>\"Mozilla/5.0 (X11; U; Linux i686; ca; rv:1.9.2.17) Gecko/20110428 Fedora/3.6.17-1.fc13 Firefox/3.6.17\" VLOG=-</td>\n",
       "    </tr>\n",
       "    <tr>\n",
       "      <th>51925</th>\n",
       "      <td></td>\n",
       "      <td>www.akumenius.com</td>\n",
       "      <td></td>\n",
       "      <td>157.55.33.30</td>\n",
       "      <td></td>\n",
       "      <td>-</td>\n",
       "      <td></td>\n",
       "      <td>-</td>\n",
       "      <td></td>\n",
       "      <td>[24/Feb/2014:09:55:54</td>\n",
       "      <td></td>\n",
       "      <td>+0100]</td>\n",
       "      <td></td>\n",
       "      <td>\"GET</td>\n",
       "      <td></td>\n",
       "      <td>/destinos-baratos/destinos-caracteristicas/hoteles-baratos-en-COSTA-DEL-SALENTO_ITALIA-con-Servicio-de-fotocopias</td>\n",
       "      <td></td>\n",
       "      <td>HTTP/1.1\"</td>\n",
       "      <td></td>\n",
       "      <td>200</td>\n",
       "      <td></td>\n",
       "      <td>8230</td>\n",
       "      <td></td>\n",
       "      <td>\"-\"</td>\n",
       "      <td>\"Mozilla/5.0 (compatible; bingbot/2.0; +http://www.bing.com/bingbot.htm)\" VLOG=-</td>\n",
       "    </tr>\n",
       "  </tbody>\n",
       "</table>\n",
       "</div>"
      ],
      "text/plain": [
       "      0                  1  2              3  4  5  6        7  8   \\\n",
       "51923     www.akumenius.com     80.28.221.123     -     clarcat      \n",
       "51924     www.akumenius.com     80.28.221.123     -     clarcat      \n",
       "51925     www.akumenius.com      157.55.33.30     -           -      \n",
       "\n",
       "                          9  10      11 12    13 14  \\\n",
       "51923  [24/Feb/2014:09:55:54     +0100]     \"GET      \n",
       "51924  [24/Feb/2014:09:55:54     +0100]     \"GET      \n",
       "51925  [24/Feb/2014:09:55:54     +0100]     \"GET      \n",
       "\n",
       "                                                                                                                      15  \\\n",
       "51923                                /awstats.pl?month=02&year=2012&output=main&config=www.akumenius.com&framename=index   \n",
       "51924                             /awstats.pl?month=02&year=2012&output=main&config=www.akumenius.com&framename=mainleft   \n",
       "51925  /destinos-baratos/destinos-caracteristicas/hoteles-baratos-en-COSTA-DEL-SALENTO_ITALIA-con-Servicio-de-fotocopias   \n",
       "\n",
       "      16         17 18   19 20     21 22  \\\n",
       "51923     HTTP/1.1\"     200      1146      \n",
       "51924     HTTP/1.1\"     200     12249      \n",
       "51925     HTTP/1.1\"     200      8230      \n",
       "\n",
       "                                                                                                                      23  \\\n",
       "51923  \"http://www.akumenius.com/awstats.pl?month=02&year=2013&output=main&config=www.akumenius.com&framename=mainright\"   \n",
       "51924      \"http://www.akumenius.com/awstats.pl?month=02&year=2012&output=main&config=www.akumenius.com&framename=index\"   \n",
       "51925                                                                                                                \"-\"   \n",
       "\n",
       "                                                                                                                   24  \n",
       "51923   \"Mozilla/5.0 (X11; U; Linux i686; ca; rv:1.9.2.17) Gecko/20110428 Fedora/3.6.17-1.fc13 Firefox/3.6.17\" VLOG=-  \n",
       "51924   \"Mozilla/5.0 (X11; U; Linux i686; ca; rv:1.9.2.17) Gecko/20110428 Fedora/3.6.17-1.fc13 Firefox/3.6.17\" VLOG=-  \n",
       "51925                                \"Mozilla/5.0 (compatible; bingbot/2.0; +http://www.bing.com/bingbot.htm)\" VLOG=-  "
      ]
     },
     "execution_count": 64,
     "metadata": {},
     "output_type": "execute_result"
    }
   ],
   "source": [
    "# take a look at some of the index above: \n",
    "df1[51923:51926]"
   ]
  },
  {
   "cell_type": "markdown",
   "id": "057e2e0c",
   "metadata": {},
   "source": [
    "Since we don' t need this column for the purpose of this exercise, we will delete it. We can delete all the above columns except 23 (this column contains info). We will delete columns 0,2,4,5,6,7,8,10,12,14,16,18,20,22"
   ]
  },
  {
   "cell_type": "code",
   "execution_count": 65,
   "id": "b000ebc9",
   "metadata": {
    "ExecuteTime": {
     "end_time": "2022-02-23T10:48:22.433804Z",
     "start_time": "2022-02-23T10:48:22.295522Z"
    }
   },
   "outputs": [],
   "source": [
    "cols = [0,2,4,5,6,7,8,10,12,14,16,18,20,22]\n",
    "df1.drop(df1[cols], axis =1, inplace = True )"
   ]
  },
  {
   "cell_type": "code",
   "execution_count": 66,
   "id": "42ec1126",
   "metadata": {
    "ExecuteTime": {
     "end_time": "2022-02-23T10:48:22.465149Z",
     "start_time": "2022-02-23T10:48:22.435876Z"
    }
   },
   "outputs": [
    {
     "data": {
      "text/html": [
       "<div>\n",
       "<style scoped>\n",
       "    .dataframe tbody tr th:only-of-type {\n",
       "        vertical-align: middle;\n",
       "    }\n",
       "\n",
       "    .dataframe tbody tr th {\n",
       "        vertical-align: top;\n",
       "    }\n",
       "\n",
       "    .dataframe thead th {\n",
       "        text-align: right;\n",
       "    }\n",
       "</style>\n",
       "<table border=\"1\" class=\"dataframe\">\n",
       "  <thead>\n",
       "    <tr style=\"text-align: right;\">\n",
       "      <th></th>\n",
       "      <th>1</th>\n",
       "      <th>3</th>\n",
       "      <th>9</th>\n",
       "      <th>11</th>\n",
       "      <th>13</th>\n",
       "      <th>15</th>\n",
       "      <th>17</th>\n",
       "      <th>19</th>\n",
       "      <th>21</th>\n",
       "      <th>23</th>\n",
       "      <th>24</th>\n",
       "    </tr>\n",
       "  </thead>\n",
       "  <tbody>\n",
       "    <tr>\n",
       "      <th>21</th>\n",
       "      <td>localhost</td>\n",
       "      <td>127.0.0.1</td>\n",
       "      <td>[23/Feb/2014:03:10:31</td>\n",
       "      <td>+0100]</td>\n",
       "      <td>\"OPTIONS</td>\n",
       "      <td>*</td>\n",
       "      <td>HTTP/1.0\"</td>\n",
       "      <td>200</td>\n",
       "      <td>-</td>\n",
       "      <td>\"-\"</td>\n",
       "      <td>\"Apache (internal dummy connection)\" VLOG=-</td>\n",
       "    </tr>\n",
       "    <tr>\n",
       "      <th>22</th>\n",
       "      <td>www.akumenius.com</td>\n",
       "      <td>66.249.76.216</td>\n",
       "      <td>[23/Feb/2014:03:10:31</td>\n",
       "      <td>+0100]</td>\n",
       "      <td>\"GET</td>\n",
       "      <td>/hoteles-baratos/ofertas-hotel-Club-&amp;-Hotel-Letoonia--en-Fethiye-8460b-destinos.html</td>\n",
       "      <td>HTTP/1.1\"</td>\n",
       "      <td>404</td>\n",
       "      <td>3100</td>\n",
       "      <td>\"-\"</td>\n",
       "      <td>\"Mozilla/5.0 (compatible; Googlebot/2.1; +http://www.google.com/bot.html)\" VLOG=-</td>\n",
       "    </tr>\n",
       "    <tr>\n",
       "      <th>23</th>\n",
       "      <td>www.akumenius.com</td>\n",
       "      <td>66.249.76.216</td>\n",
       "      <td>[23/Feb/2014:03:10:33</td>\n",
       "      <td>+0100]</td>\n",
       "      <td>\"GET</td>\n",
       "      <td>/hoteles-baratos/ofertas-hotel-Metropolis-Hotel-en-Kaunas-210244b-destinos.html</td>\n",
       "      <td>HTTP/1.1\"</td>\n",
       "      <td>404</td>\n",
       "      <td>3100</td>\n",
       "      <td>\"-\"</td>\n",
       "      <td>\"Mozilla/5.0 (compatible; Googlebot/2.1; +http://www.google.com/bot.html)\" VLOG=-</td>\n",
       "    </tr>\n",
       "  </tbody>\n",
       "</table>\n",
       "</div>"
      ],
      "text/plain": [
       "                   1              3                      9       11        13  \\\n",
       "21          localhost      127.0.0.1  [23/Feb/2014:03:10:31  +0100]  \"OPTIONS   \n",
       "22  www.akumenius.com  66.249.76.216  [23/Feb/2014:03:10:31  +0100]      \"GET   \n",
       "23  www.akumenius.com  66.249.76.216  [23/Feb/2014:03:10:33  +0100]      \"GET   \n",
       "\n",
       "                                                                                      15  \\\n",
       "21                                                                                     *   \n",
       "22  /hoteles-baratos/ofertas-hotel-Club-&-Hotel-Letoonia--en-Fethiye-8460b-destinos.html   \n",
       "23       /hoteles-baratos/ofertas-hotel-Metropolis-Hotel-en-Kaunas-210244b-destinos.html   \n",
       "\n",
       "           17   19    21   23  \\\n",
       "21  HTTP/1.0\"  200     -  \"-\"   \n",
       "22  HTTP/1.1\"  404  3100  \"-\"   \n",
       "23  HTTP/1.1\"  404  3100  \"-\"   \n",
       "\n",
       "                                                                                    24  \n",
       "21                                         \"Apache (internal dummy connection)\" VLOG=-  \n",
       "22   \"Mozilla/5.0 (compatible; Googlebot/2.1; +http://www.google.com/bot.html)\" VLOG=-  \n",
       "23   \"Mozilla/5.0 (compatible; Googlebot/2.1; +http://www.google.com/bot.html)\" VLOG=-  "
      ]
     },
     "execution_count": 66,
     "metadata": {},
     "output_type": "execute_result"
    }
   ],
   "source": [
    "df1[21:24]"
   ]
  },
  {
   "cell_type": "code",
   "execution_count": 67,
   "id": "2ab90170",
   "metadata": {
    "ExecuteTime": {
     "end_time": "2022-02-23T10:48:22.987025Z",
     "start_time": "2022-02-23T10:48:22.466819Z"
    }
   },
   "outputs": [],
   "source": [
    "# we will delete \"[\" and \"]\" from columns '9' and '11' using regex and replace \n",
    "# we use the index to access this columns\n",
    "df1.iloc[:,2] = df1.iloc[:,2].str.replace(r'\\[','', regex = True)\n",
    "df1.iloc[:,3] = df1.iloc[:,3].str.replace(r'\\]','', regex = True)"
   ]
  },
  {
   "cell_type": "code",
   "execution_count": 68,
   "id": "6934be23",
   "metadata": {
    "ExecuteTime": {
     "end_time": "2022-02-23T10:48:24.178300Z",
     "start_time": "2022-02-23T10:48:22.988033Z"
    }
   },
   "outputs": [
    {
     "data": {
      "text/html": [
       "<div>\n",
       "<style scoped>\n",
       "    .dataframe tbody tr th:only-of-type {\n",
       "        vertical-align: middle;\n",
       "    }\n",
       "\n",
       "    .dataframe tbody tr th {\n",
       "        vertical-align: top;\n",
       "    }\n",
       "\n",
       "    .dataframe thead th {\n",
       "        text-align: right;\n",
       "    }\n",
       "</style>\n",
       "<table border=\"1\" class=\"dataframe\">\n",
       "  <thead>\n",
       "    <tr style=\"text-align: right;\">\n",
       "      <th></th>\n",
       "      <th>1</th>\n",
       "      <th>3</th>\n",
       "      <th>9</th>\n",
       "      <th>11</th>\n",
       "      <th>13</th>\n",
       "      <th>15</th>\n",
       "      <th>17</th>\n",
       "      <th>19</th>\n",
       "      <th>21</th>\n",
       "      <th>23</th>\n",
       "      <th>24</th>\n",
       "    </tr>\n",
       "  </thead>\n",
       "  <tbody>\n",
       "    <tr>\n",
       "      <th>21</th>\n",
       "      <td>localhost</td>\n",
       "      <td>127.0.0.1</td>\n",
       "      <td>23/Feb/2014:03:10:31</td>\n",
       "      <td>+0100</td>\n",
       "      <td>OPTIONS</td>\n",
       "      <td>*</td>\n",
       "      <td>HTTP/1.0</td>\n",
       "      <td>200</td>\n",
       "      <td>-</td>\n",
       "      <td>-</td>\n",
       "      <td>Apache (internal dummy connection) VLOG=-</td>\n",
       "    </tr>\n",
       "    <tr>\n",
       "      <th>22</th>\n",
       "      <td>www.akumenius.com</td>\n",
       "      <td>66.249.76.216</td>\n",
       "      <td>23/Feb/2014:03:10:31</td>\n",
       "      <td>+0100</td>\n",
       "      <td>GET</td>\n",
       "      <td>/hoteles-baratos/ofertas-hotel-Club-&amp;-Hotel-Letoonia--en-Fethiye-8460b-destinos.html</td>\n",
       "      <td>HTTP/1.1</td>\n",
       "      <td>404</td>\n",
       "      <td>3100</td>\n",
       "      <td>-</td>\n",
       "      <td>Mozilla/5.0 (compatible; Googlebot/2.1; +http://www.google.com/bot.html) VLOG=-</td>\n",
       "    </tr>\n",
       "    <tr>\n",
       "      <th>23</th>\n",
       "      <td>www.akumenius.com</td>\n",
       "      <td>66.249.76.216</td>\n",
       "      <td>23/Feb/2014:03:10:33</td>\n",
       "      <td>+0100</td>\n",
       "      <td>GET</td>\n",
       "      <td>/hoteles-baratos/ofertas-hotel-Metropolis-Hotel-en-Kaunas-210244b-destinos.html</td>\n",
       "      <td>HTTP/1.1</td>\n",
       "      <td>404</td>\n",
       "      <td>3100</td>\n",
       "      <td>-</td>\n",
       "      <td>Mozilla/5.0 (compatible; Googlebot/2.1; +http://www.google.com/bot.html) VLOG=-</td>\n",
       "    </tr>\n",
       "  </tbody>\n",
       "</table>\n",
       "</div>"
      ],
      "text/plain": [
       "                   1              3                     9      11       13  \\\n",
       "21          localhost      127.0.0.1  23/Feb/2014:03:10:31  +0100  OPTIONS   \n",
       "22  www.akumenius.com  66.249.76.216  23/Feb/2014:03:10:31  +0100      GET   \n",
       "23  www.akumenius.com  66.249.76.216  23/Feb/2014:03:10:33  +0100      GET   \n",
       "\n",
       "                                                                                      15  \\\n",
       "21                                                                                     *   \n",
       "22  /hoteles-baratos/ofertas-hotel-Club-&-Hotel-Letoonia--en-Fethiye-8460b-destinos.html   \n",
       "23       /hoteles-baratos/ofertas-hotel-Metropolis-Hotel-en-Kaunas-210244b-destinos.html   \n",
       "\n",
       "          17   19    21 23  \\\n",
       "21  HTTP/1.0  200     -  -   \n",
       "22  HTTP/1.1  404  3100  -   \n",
       "23  HTTP/1.1  404  3100  -   \n",
       "\n",
       "                                                                                  24  \n",
       "21                                         Apache (internal dummy connection) VLOG=-  \n",
       "22   Mozilla/5.0 (compatible; Googlebot/2.1; +http://www.google.com/bot.html) VLOG=-  \n",
       "23   Mozilla/5.0 (compatible; Googlebot/2.1; +http://www.google.com/bot.html) VLOG=-  "
      ]
     },
     "execution_count": 68,
     "metadata": {},
     "output_type": "execute_result"
    }
   ],
   "source": [
    "# now we´ll remove \" from the column '13', '17', '23' and '24'. We´ll do it by their indexes\n",
    "df1.iloc[:,4] = df1.iloc[:,4].str.replace(r'\\\"','', regex = True)\n",
    "df1.iloc[:,6] = df1.iloc[:,6].str.replace(r'\\\"','', regex = True)\n",
    "df1.iloc[:,9] = df1.iloc[:,9].str.replace(r'\\\"','', regex = True)\n",
    "df1.iloc[:,10] = df1.iloc[:,10].str.replace(r'\\\"','', regex = True)\n",
    "df1[21:24]"
   ]
  },
  {
   "cell_type": "markdown",
   "id": "1ccc8be7",
   "metadata": {},
   "source": [
    "Now we can see the attributes of a log file. There are different formats for a log file, one of the most common is the **Common Log Format**, that contains the following fields: \n",
    "\n",
    "+ The **IP address or host/subdomain** name of the HTTP client that made the HTTP resource request.\n",
    "+ The identifier used to identify the client making the HTTP request (optional).\n",
    "+ The username, (or user ID) used by the client for authentication (optional).\n",
    "+ The **date and time** stamp of the HTTP request.\n",
    "+ The **HTTP request**, containing the requested resource (index.html), the HTTP method (GET) and the HTTP protocol version.\n",
    "+ **Status code**: the numeric code indicating the success or failure of the HTTP request.\n",
    "+ **Bytes** : numeric field containing the number of bytes of data transferred as part of the HTTP request."
   ]
  },
  {
   "cell_type": "markdown",
   "id": "9ad4054b",
   "metadata": {},
   "source": [
    "In our case we have these described fields and some additional ones. Besides the Common log format, another usual format is the **Combined Log Format**, that contains all of the above info plus: "
   ]
  },
  {
   "cell_type": "markdown",
   "id": "06b9abb9",
   "metadata": {},
   "source": [
    "+ The **Referrer** : The URL which linked the user to your site.\n",
    "+ **User_agent** : The Web browser and platform used by the visitor to your site.(Optional)\n",
    "+ **Cookies** (Optional) "
   ]
  },
  {
   "cell_type": "markdown",
   "id": "8582e57e",
   "metadata": {},
   "source": [
    "#### - Exercici 2"
   ]
  },
  {
   "cell_type": "markdown",
   "id": "73dcc21c",
   "metadata": {},
   "source": [
    "Neteja, preprocesa, estructura i transforma (dataframe) les dades del registre d'Accés a la web."
   ]
  },
  {
   "cell_type": "code",
   "execution_count": 69,
   "id": "cd5e31da",
   "metadata": {
    "ExecuteTime": {
     "end_time": "2022-02-23T10:48:24.361379Z",
     "start_time": "2022-02-23T10:48:24.179856Z"
    }
   },
   "outputs": [
    {
     "data": {
      "text/html": [
       "<div>\n",
       "<style scoped>\n",
       "    .dataframe tbody tr th:only-of-type {\n",
       "        vertical-align: middle;\n",
       "    }\n",
       "\n",
       "    .dataframe tbody tr th {\n",
       "        vertical-align: top;\n",
       "    }\n",
       "\n",
       "    .dataframe thead th {\n",
       "        text-align: right;\n",
       "    }\n",
       "</style>\n",
       "<table border=\"1\" class=\"dataframe\">\n",
       "  <thead>\n",
       "    <tr style=\"text-align: right;\">\n",
       "      <th></th>\n",
       "      <th>web_host</th>\n",
       "      <th>ip_address</th>\n",
       "      <th>date_time</th>\n",
       "      <th>time_zone</th>\n",
       "      <th>request_type</th>\n",
       "      <th>requested_resource</th>\n",
       "      <th>http_protocol</th>\n",
       "      <th>response_code</th>\n",
       "      <th>bytes</th>\n",
       "      <th>referer</th>\n",
       "      <th>user_agent</th>\n",
       "    </tr>\n",
       "  </thead>\n",
       "  <tbody>\n",
       "    <tr>\n",
       "      <th>11016</th>\n",
       "      <td>www.akumenius.com</td>\n",
       "      <td>81.45.52.213</td>\n",
       "      <td>23/Feb/2014:10:58:26</td>\n",
       "      <td>+0100</td>\n",
       "      <td>GET</td>\n",
       "      <td>/libraries/jqueryui/css/ui-lightness/jquery.ui.button.css</td>\n",
       "      <td>HTTP/1.1</td>\n",
       "      <td>200</td>\n",
       "      <td>2471</td>\n",
       "      <td>http://www.akumenius.com/escapadas/galicia-724.html</td>\n",
       "      <td>Mozilla/5.0 (Linux; U; Android 4.1.1; es-es; GT-I8190 Build/JRO03H) AppleWebKit/534.30 (KHTML, like Gecko) Version/4.0 Mobile Safari/534.30 VLOG=-</td>\n",
       "    </tr>\n",
       "    <tr>\n",
       "      <th>151094</th>\n",
       "      <td>localhost</td>\n",
       "      <td>127.0.0.1</td>\n",
       "      <td>26/Feb/2014:06:00:36</td>\n",
       "      <td>+0100</td>\n",
       "      <td>OPTIONS</td>\n",
       "      <td>*</td>\n",
       "      <td>HTTP/1.0</td>\n",
       "      <td>200</td>\n",
       "      <td>-</td>\n",
       "      <td>-</td>\n",
       "      <td>Apache (internal dummy connection) VLOG=-</td>\n",
       "    </tr>\n",
       "    <tr>\n",
       "      <th>62561</th>\n",
       "      <td>www.akumenius.com</td>\n",
       "      <td>92.57.179.84</td>\n",
       "      <td>24/Feb/2014:12:57:25</td>\n",
       "      <td>+0100</td>\n",
       "      <td>GET</td>\n",
       "      <td>/libraries/jquery/jquery-1.4.2.min.js</td>\n",
       "      <td>HTTP/1.1</td>\n",
       "      <td>200</td>\n",
       "      <td>72174</td>\n",
       "      <td>http://www.akumenius.com/hoteles-baratos/hoteles-todo-incluido.html?gclid=CLzo9-Xa5LwCFYWWtAod2zUATw</td>\n",
       "      <td>Mozilla/5.0 (Linux; U; Android 2.2.2; es-es; LG-P970-Orange Build/FRG83G) AppleWebKit/533.1 (KHTML, like Gecko) Version/4.0 Mobile Safari/533.1 MMS/LG-Android-MMS-V1.0/1.2 VLOG=-</td>\n",
       "    </tr>\n",
       "  </tbody>\n",
       "</table>\n",
       "</div>"
      ],
      "text/plain": [
       "                 web_host    ip_address             date_time time_zone  \\\n",
       "11016   www.akumenius.com  81.45.52.213  23/Feb/2014:10:58:26     +0100   \n",
       "151094          localhost     127.0.0.1  26/Feb/2014:06:00:36     +0100   \n",
       "62561   www.akumenius.com  92.57.179.84  24/Feb/2014:12:57:25     +0100   \n",
       "\n",
       "       request_type  \\\n",
       "11016           GET   \n",
       "151094      OPTIONS   \n",
       "62561           GET   \n",
       "\n",
       "                                               requested_resource  \\\n",
       "11016   /libraries/jqueryui/css/ui-lightness/jquery.ui.button.css   \n",
       "151094                                                          *   \n",
       "62561                       /libraries/jquery/jquery-1.4.2.min.js   \n",
       "\n",
       "       http_protocol response_code  bytes  \\\n",
       "11016       HTTP/1.1           200   2471   \n",
       "151094      HTTP/1.0           200      -   \n",
       "62561       HTTP/1.1           200  72174   \n",
       "\n",
       "                                                                                                     referer  \\\n",
       "11016                                                    http://www.akumenius.com/escapadas/galicia-724.html   \n",
       "151094                                                                                                     -   \n",
       "62561   http://www.akumenius.com/hoteles-baratos/hoteles-todo-incluido.html?gclid=CLzo9-Xa5LwCFYWWtAod2zUATw   \n",
       "\n",
       "                                                                                                                                                                                 user_agent  \n",
       "11016                                    Mozilla/5.0 (Linux; U; Android 4.1.1; es-es; GT-I8190 Build/JRO03H) AppleWebKit/534.30 (KHTML, like Gecko) Version/4.0 Mobile Safari/534.30 VLOG=-  \n",
       "151094                                                                                                                                            Apache (internal dummy connection) VLOG=-  \n",
       "62561    Mozilla/5.0 (Linux; U; Android 2.2.2; es-es; LG-P970-Orange Build/FRG83G) AppleWebKit/533.1 (KHTML, like Gecko) Version/4.0 Mobile Safari/533.1 MMS/LG-Android-MMS-V1.0/1.2 VLOG=-  "
      ]
     },
     "execution_count": 69,
     "metadata": {},
     "output_type": "execute_result"
    }
   ],
   "source": [
    "# Firstly, we´ll rename the columns with the names of the attributes shown above: \n",
    "mapping = {df1.columns[0] : 'web_host', df1.columns[1]: 'ip_address', df1.columns[2]: 'date_time', \n",
    "           df1.columns[3]: 'time_zone', df1.columns[4] : 'request_type', \n",
    "           df1.columns[5]: 'requested_resource', df1.columns[6]: 'http_protocol', \n",
    "           df1.columns[7]: 'response_code', df1.columns[8] : 'bytes', df1.columns[9]: 'referer', \n",
    "           df1.columns[10]: 'user_agent' }\n",
    "df1 = df1.rename(columns = mapping).copy()\n",
    "# check random rows\n",
    "df1.sample(3)"
   ]
  },
  {
   "cell_type": "markdown",
   "id": "cd2d4d28",
   "metadata": {},
   "source": [
    "We will split the 'date_time column' so we'll have a column for the date and another column for the time: "
   ]
  },
  {
   "cell_type": "code",
   "execution_count": 71,
   "id": "3d9cd11b",
   "metadata": {
    "ExecuteTime": {
     "end_time": "2022-02-23T10:48:25.334534Z",
     "start_time": "2022-02-23T10:48:24.393821Z"
    }
   },
   "outputs": [],
   "source": [
    "# we´ll replace the first \":\" with whitespace in the date_time column and then split it by this whitesapce\n",
    "df1['date_time'] = df1['date_time'].str.replace(r'\\:',' ', 1, regex = True).copy()\n",
    "df1[['none','date', 'time']] = df1['date_time'].str.split(r'([^\\s]+)', 1, expand= True)"
   ]
  },
  {
   "cell_type": "markdown",
   "id": "1ad2e492",
   "metadata": {},
   "source": [
    "We'll also split the 'user_agent' column to keep browser and platform used by the visitor in separate columns: "
   ]
  },
  {
   "cell_type": "code",
   "execution_count": 72,
   "id": "db7366e8",
   "metadata": {
    "ExecuteTime": {
     "end_time": "2022-02-23T10:48:26.682288Z",
     "start_time": "2022-02-23T10:48:25.336535Z"
    }
   },
   "outputs": [],
   "source": [
    "# we´ll split the user_agent column by the first parentheses and then remove it \n",
    "df1[['none2','browser', 'user_agent']] = df1['user_agent'].str.split(r'([^\\(]+)', 1, expand= True)\n",
    "df1['user_agent'] = df1['user_agent'].str.replace(r'[()\"]',' ', regex = True)"
   ]
  },
  {
   "cell_type": "code",
   "execution_count": 73,
   "id": "ed907f86",
   "metadata": {
    "ExecuteTime": {
     "end_time": "2022-02-23T10:48:27.014994Z",
     "start_time": "2022-02-23T10:48:26.684296Z"
    }
   },
   "outputs": [],
   "source": [
    "# we can drop the columns we don´t need anymore\n",
    "df1.drop(['date_time', 'none', 'none2'], axis=1, inplace = True)"
   ]
  },
  {
   "cell_type": "code",
   "execution_count": 74,
   "id": "3fda2f62",
   "metadata": {
    "ExecuteTime": {
     "end_time": "2022-02-23T10:48:27.154116Z",
     "start_time": "2022-02-23T10:48:27.015878Z"
    }
   },
   "outputs": [
    {
     "data": {
      "text/html": [
       "<div>\n",
       "<style scoped>\n",
       "    .dataframe tbody tr th:only-of-type {\n",
       "        vertical-align: middle;\n",
       "    }\n",
       "\n",
       "    .dataframe tbody tr th {\n",
       "        vertical-align: top;\n",
       "    }\n",
       "\n",
       "    .dataframe thead th {\n",
       "        text-align: right;\n",
       "    }\n",
       "</style>\n",
       "<table border=\"1\" class=\"dataframe\">\n",
       "  <thead>\n",
       "    <tr style=\"text-align: right;\">\n",
       "      <th></th>\n",
       "      <th>web_host</th>\n",
       "      <th>ip_address</th>\n",
       "      <th>date</th>\n",
       "      <th>time</th>\n",
       "      <th>time_zone</th>\n",
       "      <th>request_type</th>\n",
       "      <th>requested_resource</th>\n",
       "      <th>http_protocol</th>\n",
       "      <th>response_code</th>\n",
       "      <th>bytes</th>\n",
       "      <th>referer</th>\n",
       "      <th>browser</th>\n",
       "      <th>user_agent</th>\n",
       "    </tr>\n",
       "  </thead>\n",
       "  <tbody>\n",
       "    <tr>\n",
       "      <th>21</th>\n",
       "      <td>localhost</td>\n",
       "      <td>127.0.0.1</td>\n",
       "      <td>23/Feb/2014</td>\n",
       "      <td>03:10:31</td>\n",
       "      <td>+0100</td>\n",
       "      <td>OPTIONS</td>\n",
       "      <td>*</td>\n",
       "      <td>HTTP/1.0</td>\n",
       "      <td>200</td>\n",
       "      <td>-</td>\n",
       "      <td>-</td>\n",
       "      <td>Apache</td>\n",
       "      <td>internal dummy connection  VLOG=-</td>\n",
       "    </tr>\n",
       "    <tr>\n",
       "      <th>22</th>\n",
       "      <td>www.akumenius.com</td>\n",
       "      <td>66.249.76.216</td>\n",
       "      <td>23/Feb/2014</td>\n",
       "      <td>03:10:31</td>\n",
       "      <td>+0100</td>\n",
       "      <td>GET</td>\n",
       "      <td>/hoteles-baratos/ofertas-hotel-Club-&amp;-Hotel-Letoonia--en-Fethiye-8460b-destinos.html</td>\n",
       "      <td>HTTP/1.1</td>\n",
       "      <td>404</td>\n",
       "      <td>3100</td>\n",
       "      <td>-</td>\n",
       "      <td>Mozilla/5.0</td>\n",
       "      <td>compatible; Googlebot/2.1; +http://www.google.com/bot.html  VLOG=-</td>\n",
       "    </tr>\n",
       "    <tr>\n",
       "      <th>23</th>\n",
       "      <td>www.akumenius.com</td>\n",
       "      <td>66.249.76.216</td>\n",
       "      <td>23/Feb/2014</td>\n",
       "      <td>03:10:33</td>\n",
       "      <td>+0100</td>\n",
       "      <td>GET</td>\n",
       "      <td>/hoteles-baratos/ofertas-hotel-Metropolis-Hotel-en-Kaunas-210244b-destinos.html</td>\n",
       "      <td>HTTP/1.1</td>\n",
       "      <td>404</td>\n",
       "      <td>3100</td>\n",
       "      <td>-</td>\n",
       "      <td>Mozilla/5.0</td>\n",
       "      <td>compatible; Googlebot/2.1; +http://www.google.com/bot.html  VLOG=-</td>\n",
       "    </tr>\n",
       "  </tbody>\n",
       "</table>\n",
       "</div>"
      ],
      "text/plain": [
       "             web_host     ip_address         date       time time_zone  \\\n",
       "21          localhost      127.0.0.1  23/Feb/2014   03:10:31     +0100   \n",
       "22  www.akumenius.com  66.249.76.216  23/Feb/2014   03:10:31     +0100   \n",
       "23  www.akumenius.com  66.249.76.216  23/Feb/2014   03:10:33     +0100   \n",
       "\n",
       "   request_type  \\\n",
       "21      OPTIONS   \n",
       "22          GET   \n",
       "23          GET   \n",
       "\n",
       "                                                                      requested_resource  \\\n",
       "21                                                                                     *   \n",
       "22  /hoteles-baratos/ofertas-hotel-Club-&-Hotel-Letoonia--en-Fethiye-8460b-destinos.html   \n",
       "23       /hoteles-baratos/ofertas-hotel-Metropolis-Hotel-en-Kaunas-210244b-destinos.html   \n",
       "\n",
       "   http_protocol response_code bytes referer        browser  \\\n",
       "21      HTTP/1.0           200     -       -        Apache    \n",
       "22      HTTP/1.1           404  3100       -   Mozilla/5.0    \n",
       "23      HTTP/1.1           404  3100       -   Mozilla/5.0    \n",
       "\n",
       "                                                             user_agent  \n",
       "21                                    internal dummy connection  VLOG=-  \n",
       "22   compatible; Googlebot/2.1; +http://www.google.com/bot.html  VLOG=-  \n",
       "23   compatible; Googlebot/2.1; +http://www.google.com/bot.html  VLOG=-  "
      ]
     },
     "execution_count": 74,
     "metadata": {},
     "output_type": "execute_result"
    }
   ],
   "source": [
    "# we order the columns: \n",
    "df1 = df1[['web_host','ip_address', 'date', 'time', 'time_zone', 'request_type', 'requested_resource', \n",
    "           'http_protocol', 'response_code','bytes', 'referer', 'browser', 'user_agent' ]]\n",
    "df1[21:24]"
   ]
  },
  {
   "cell_type": "markdown",
   "id": "371f5701",
   "metadata": {},
   "source": [
    "We have some columns with rows that contain \"-\" and \"*\", we will replace these characters with NaN to be able to have some control over the null values: "
   ]
  },
  {
   "cell_type": "code",
   "execution_count": 85,
   "id": "ee0b19e1",
   "metadata": {
    "ExecuteTime": {
     "end_time": "2022-02-23T10:58:52.352548Z",
     "start_time": "2022-02-23T10:58:52.054638Z"
    }
   },
   "outputs": [],
   "source": [
    "df1.replace('-', np.nan, inplace = True)\n",
    "df1.requested_resource.replace('*', np.nan, inplace = True )"
   ]
  },
  {
   "cell_type": "code",
   "execution_count": 86,
   "id": "75a54670",
   "metadata": {
    "ExecuteTime": {
     "end_time": "2022-02-23T10:58:54.004454Z",
     "start_time": "2022-02-23T10:58:53.974130Z"
    }
   },
   "outputs": [
    {
     "data": {
      "text/html": [
       "<div>\n",
       "<style scoped>\n",
       "    .dataframe tbody tr th:only-of-type {\n",
       "        vertical-align: middle;\n",
       "    }\n",
       "\n",
       "    .dataframe tbody tr th {\n",
       "        vertical-align: top;\n",
       "    }\n",
       "\n",
       "    .dataframe thead th {\n",
       "        text-align: right;\n",
       "    }\n",
       "</style>\n",
       "<table border=\"1\" class=\"dataframe\">\n",
       "  <thead>\n",
       "    <tr style=\"text-align: right;\">\n",
       "      <th></th>\n",
       "      <th>web_host</th>\n",
       "      <th>ip_address</th>\n",
       "      <th>date</th>\n",
       "      <th>time</th>\n",
       "      <th>time_zone</th>\n",
       "      <th>request_type</th>\n",
       "      <th>requested_resource</th>\n",
       "      <th>http_protocol</th>\n",
       "      <th>response_code</th>\n",
       "      <th>bytes</th>\n",
       "      <th>referer</th>\n",
       "      <th>browser</th>\n",
       "      <th>user_agent</th>\n",
       "    </tr>\n",
       "  </thead>\n",
       "  <tbody>\n",
       "    <tr>\n",
       "      <th>21</th>\n",
       "      <td>localhost</td>\n",
       "      <td>127.0.0.1</td>\n",
       "      <td>23/Feb/2014</td>\n",
       "      <td>03:10:31</td>\n",
       "      <td>+0100</td>\n",
       "      <td>OPTIONS</td>\n",
       "      <td>NaN</td>\n",
       "      <td>HTTP/1.0</td>\n",
       "      <td>200</td>\n",
       "      <td>NaN</td>\n",
       "      <td>NaN</td>\n",
       "      <td>Apache</td>\n",
       "      <td>internal dummy connection  VLOG=-</td>\n",
       "    </tr>\n",
       "    <tr>\n",
       "      <th>22</th>\n",
       "      <td>www.akumenius.com</td>\n",
       "      <td>66.249.76.216</td>\n",
       "      <td>23/Feb/2014</td>\n",
       "      <td>03:10:31</td>\n",
       "      <td>+0100</td>\n",
       "      <td>GET</td>\n",
       "      <td>/hoteles-baratos/ofertas-hotel-Club-&amp;-Hotel-Letoonia--en-Fethiye-8460b-destinos.html</td>\n",
       "      <td>HTTP/1.1</td>\n",
       "      <td>404</td>\n",
       "      <td>3100</td>\n",
       "      <td>NaN</td>\n",
       "      <td>Mozilla/5.0</td>\n",
       "      <td>compatible; Googlebot/2.1; +http://www.google.com/bot.html  VLOG=-</td>\n",
       "    </tr>\n",
       "    <tr>\n",
       "      <th>23</th>\n",
       "      <td>www.akumenius.com</td>\n",
       "      <td>66.249.76.216</td>\n",
       "      <td>23/Feb/2014</td>\n",
       "      <td>03:10:33</td>\n",
       "      <td>+0100</td>\n",
       "      <td>GET</td>\n",
       "      <td>/hoteles-baratos/ofertas-hotel-Metropolis-Hotel-en-Kaunas-210244b-destinos.html</td>\n",
       "      <td>HTTP/1.1</td>\n",
       "      <td>404</td>\n",
       "      <td>3100</td>\n",
       "      <td>NaN</td>\n",
       "      <td>Mozilla/5.0</td>\n",
       "      <td>compatible; Googlebot/2.1; +http://www.google.com/bot.html  VLOG=-</td>\n",
       "    </tr>\n",
       "  </tbody>\n",
       "</table>\n",
       "</div>"
      ],
      "text/plain": [
       "             web_host     ip_address         date       time time_zone  \\\n",
       "21          localhost      127.0.0.1  23/Feb/2014   03:10:31     +0100   \n",
       "22  www.akumenius.com  66.249.76.216  23/Feb/2014   03:10:31     +0100   \n",
       "23  www.akumenius.com  66.249.76.216  23/Feb/2014   03:10:33     +0100   \n",
       "\n",
       "   request_type  \\\n",
       "21      OPTIONS   \n",
       "22          GET   \n",
       "23          GET   \n",
       "\n",
       "                                                                      requested_resource  \\\n",
       "21                                                                                   NaN   \n",
       "22  /hoteles-baratos/ofertas-hotel-Club-&-Hotel-Letoonia--en-Fethiye-8460b-destinos.html   \n",
       "23       /hoteles-baratos/ofertas-hotel-Metropolis-Hotel-en-Kaunas-210244b-destinos.html   \n",
       "\n",
       "   http_protocol response_code bytes referer        browser  \\\n",
       "21      HTTP/1.0           200   NaN     NaN        Apache    \n",
       "22      HTTP/1.1           404  3100     NaN   Mozilla/5.0    \n",
       "23      HTTP/1.1           404  3100     NaN   Mozilla/5.0    \n",
       "\n",
       "                                                             user_agent  \n",
       "21                                    internal dummy connection  VLOG=-  \n",
       "22   compatible; Googlebot/2.1; +http://www.google.com/bot.html  VLOG=-  \n",
       "23   compatible; Googlebot/2.1; +http://www.google.com/bot.html  VLOG=-  "
      ]
     },
     "execution_count": 86,
     "metadata": {},
     "output_type": "execute_result"
    }
   ],
   "source": [
    "df1[21:24]"
   ]
  },
  {
   "cell_type": "markdown",
   "id": "df7162a9",
   "metadata": {},
   "source": [
    "This way we have a better view on the missing values on the dataframe: "
   ]
  },
  {
   "cell_type": "code",
   "execution_count": 87,
   "id": "cbccaa37",
   "metadata": {
    "ExecuteTime": {
     "end_time": "2022-02-23T10:58:59.866280Z",
     "start_time": "2022-02-23T10:58:59.449586Z"
    }
   },
   "outputs": [
    {
     "data": {
      "text/plain": [
       "web_host                  0\n",
       "ip_address                0\n",
       "date                      0\n",
       "time                      0\n",
       "time_zone                 0\n",
       "request_type             37\n",
       "requested_resource    13892\n",
       "http_protocol            37\n",
       "response_code             0\n",
       "bytes                 42298\n",
       "referer               99505\n",
       "browser                  42\n",
       "user_agent               42\n",
       "dtype: int64"
      ]
     },
     "execution_count": 87,
     "metadata": {},
     "output_type": "execute_result"
    }
   ],
   "source": [
    "df1.isnull().sum()"
   ]
  },
  {
   "cell_type": "markdown",
   "id": "3bae1582",
   "metadata": {},
   "source": [
    "#### - Exercici 3"
   ]
  },
  {
   "cell_type": "markdown",
   "id": "c8ae6279",
   "metadata": {
    "ExecuteTime": {
     "end_time": "2022-02-23T11:27:05.068792Z",
     "start_time": "2022-02-23T11:27:05.061172Z"
    }
   },
   "source": [
    "* Geolocalitza les IP's."
   ]
  },
  {
   "cell_type": "markdown",
   "id": "f468c336",
   "metadata": {},
   "source": [
    "Since we have repeated IP and the IP of the host that we don´t want to geolocate we will create a new dataframe with the unique values and counts for each IP. "
   ]
  },
  {
   "cell_type": "code",
   "execution_count": 94,
   "id": "e3c234e3",
   "metadata": {
    "ExecuteTime": {
     "end_time": "2022-02-23T11:48:37.735967Z",
     "start_time": "2022-02-23T11:48:37.670781Z"
    }
   },
   "outputs": [
    {
     "data": {
      "text/html": [
       "<div>\n",
       "<style scoped>\n",
       "    .dataframe tbody tr th:only-of-type {\n",
       "        vertical-align: middle;\n",
       "    }\n",
       "\n",
       "    .dataframe tbody tr th {\n",
       "        vertical-align: top;\n",
       "    }\n",
       "\n",
       "    .dataframe thead th {\n",
       "        text-align: right;\n",
       "    }\n",
       "</style>\n",
       "<table border=\"1\" class=\"dataframe\">\n",
       "  <thead>\n",
       "    <tr style=\"text-align: right;\">\n",
       "      <th></th>\n",
       "      <th>ip_address</th>\n",
       "      <th>counts</th>\n",
       "    </tr>\n",
       "  </thead>\n",
       "  <tbody>\n",
       "    <tr>\n",
       "      <th>0</th>\n",
       "      <td>66.249.76.216</td>\n",
       "      <td>46382</td>\n",
       "    </tr>\n",
       "    <tr>\n",
       "      <th>1</th>\n",
       "      <td>80.28.221.123</td>\n",
       "      <td>14725</td>\n",
       "    </tr>\n",
       "    <tr>\n",
       "      <th>2</th>\n",
       "      <td>127.0.0.1</td>\n",
       "      <td>13892</td>\n",
       "    </tr>\n",
       "    <tr>\n",
       "      <th>3</th>\n",
       "      <td>217.125.71.222</td>\n",
       "      <td>5201</td>\n",
       "    </tr>\n",
       "    <tr>\n",
       "      <th>4</th>\n",
       "      <td>66.249.75.148</td>\n",
       "      <td>3558</td>\n",
       "    </tr>\n",
       "    <tr>\n",
       "      <th>...</th>\n",
       "      <td>...</td>\n",
       "      <td>...</td>\n",
       "    </tr>\n",
       "    <tr>\n",
       "      <th>2916</th>\n",
       "      <td>84.123.150.27</td>\n",
       "      <td>1</td>\n",
       "    </tr>\n",
       "    <tr>\n",
       "      <th>2917</th>\n",
       "      <td>217.130.150.116</td>\n",
       "      <td>1</td>\n",
       "    </tr>\n",
       "    <tr>\n",
       "      <th>2918</th>\n",
       "      <td>202.46.52.23</td>\n",
       "      <td>1</td>\n",
       "    </tr>\n",
       "    <tr>\n",
       "      <th>2919</th>\n",
       "      <td>216.151.130.170</td>\n",
       "      <td>1</td>\n",
       "    </tr>\n",
       "    <tr>\n",
       "      <th>2920</th>\n",
       "      <td>206.198.5.33</td>\n",
       "      <td>1</td>\n",
       "    </tr>\n",
       "  </tbody>\n",
       "</table>\n",
       "<p>2921 rows × 2 columns</p>\n",
       "</div>"
      ],
      "text/plain": [
       "           ip_address  counts\n",
       "0       66.249.76.216   46382\n",
       "1       80.28.221.123   14725\n",
       "2           127.0.0.1   13892\n",
       "3      217.125.71.222    5201\n",
       "4       66.249.75.148    3558\n",
       "...               ...     ...\n",
       "2916    84.123.150.27       1\n",
       "2917  217.130.150.116       1\n",
       "2918     202.46.52.23       1\n",
       "2919  216.151.130.170       1\n",
       "2920     206.198.5.33       1\n",
       "\n",
       "[2921 rows x 2 columns]"
      ]
     },
     "execution_count": 94,
     "metadata": {},
     "output_type": "execute_result"
    }
   ],
   "source": [
    "ip_df = df1['ip_address'].value_counts().rename_axis('ip_address').reset_index(name = 'counts')\n",
    "ip_df"
   ]
  },
  {
   "cell_type": "markdown",
   "id": "48a24b06",
   "metadata": {},
   "source": [
    "We can see we have 2921 unique IP addresses. We will delete now host ip (127.0.0.1)"
   ]
  },
  {
   "cell_type": "code",
   "execution_count": 96,
   "id": "421d020d",
   "metadata": {
    "ExecuteTime": {
     "end_time": "2022-02-23T11:48:50.664254Z",
     "start_time": "2022-02-23T11:48:50.645218Z"
    }
   },
   "outputs": [],
   "source": [
    "ip_df = ip_df.drop(ip_df[ip_df.ip_address == '127.0.0.1'].index)"
   ]
  },
  {
   "cell_type": "code",
   "execution_count": 97,
   "id": "695649b7",
   "metadata": {
    "ExecuteTime": {
     "end_time": "2022-02-23T11:48:53.249692Z",
     "start_time": "2022-02-23T11:48:53.234649Z"
    }
   },
   "outputs": [
    {
     "data": {
      "text/html": [
       "<div>\n",
       "<style scoped>\n",
       "    .dataframe tbody tr th:only-of-type {\n",
       "        vertical-align: middle;\n",
       "    }\n",
       "\n",
       "    .dataframe tbody tr th {\n",
       "        vertical-align: top;\n",
       "    }\n",
       "\n",
       "    .dataframe thead th {\n",
       "        text-align: right;\n",
       "    }\n",
       "</style>\n",
       "<table border=\"1\" class=\"dataframe\">\n",
       "  <thead>\n",
       "    <tr style=\"text-align: right;\">\n",
       "      <th></th>\n",
       "      <th>ip_address</th>\n",
       "      <th>counts</th>\n",
       "    </tr>\n",
       "  </thead>\n",
       "  <tbody>\n",
       "    <tr>\n",
       "      <th>0</th>\n",
       "      <td>66.249.76.216</td>\n",
       "      <td>46382</td>\n",
       "    </tr>\n",
       "    <tr>\n",
       "      <th>1</th>\n",
       "      <td>80.28.221.123</td>\n",
       "      <td>14725</td>\n",
       "    </tr>\n",
       "    <tr>\n",
       "      <th>3</th>\n",
       "      <td>217.125.71.222</td>\n",
       "      <td>5201</td>\n",
       "    </tr>\n",
       "    <tr>\n",
       "      <th>4</th>\n",
       "      <td>66.249.75.148</td>\n",
       "      <td>3558</td>\n",
       "    </tr>\n",
       "    <tr>\n",
       "      <th>5</th>\n",
       "      <td>162.243.192.191</td>\n",
       "      <td>2927</td>\n",
       "    </tr>\n",
       "    <tr>\n",
       "      <th>...</th>\n",
       "      <td>...</td>\n",
       "      <td>...</td>\n",
       "    </tr>\n",
       "    <tr>\n",
       "      <th>2916</th>\n",
       "      <td>84.123.150.27</td>\n",
       "      <td>1</td>\n",
       "    </tr>\n",
       "    <tr>\n",
       "      <th>2917</th>\n",
       "      <td>217.130.150.116</td>\n",
       "      <td>1</td>\n",
       "    </tr>\n",
       "    <tr>\n",
       "      <th>2918</th>\n",
       "      <td>202.46.52.23</td>\n",
       "      <td>1</td>\n",
       "    </tr>\n",
       "    <tr>\n",
       "      <th>2919</th>\n",
       "      <td>216.151.130.170</td>\n",
       "      <td>1</td>\n",
       "    </tr>\n",
       "    <tr>\n",
       "      <th>2920</th>\n",
       "      <td>206.198.5.33</td>\n",
       "      <td>1</td>\n",
       "    </tr>\n",
       "  </tbody>\n",
       "</table>\n",
       "<p>2920 rows × 2 columns</p>\n",
       "</div>"
      ],
      "text/plain": [
       "           ip_address  counts\n",
       "0       66.249.76.216   46382\n",
       "1       80.28.221.123   14725\n",
       "3      217.125.71.222    5201\n",
       "4       66.249.75.148    3558\n",
       "5     162.243.192.191    2927\n",
       "...               ...     ...\n",
       "2916    84.123.150.27       1\n",
       "2917  217.130.150.116       1\n",
       "2918     202.46.52.23       1\n",
       "2919  216.151.130.170       1\n",
       "2920     206.198.5.33       1\n",
       "\n",
       "[2920 rows x 2 columns]"
      ]
     },
     "execution_count": 97,
     "metadata": {},
     "output_type": "execute_result"
    }
   ],
   "source": [
    "ip_df"
   ]
  },
  {
   "cell_type": "markdown",
   "id": "edda4163",
   "metadata": {},
   "source": [
    "To geolocate the IP addresses we will import geolite2 library: "
   ]
  },
  {
   "cell_type": "code",
   "execution_count": 92,
   "id": "d500338f",
   "metadata": {
    "ExecuteTime": {
     "end_time": "2022-02-23T11:40:20.861895Z",
     "start_time": "2022-02-23T11:40:20.826868Z"
    }
   },
   "outputs": [],
   "source": [
    "from geolite2 import geolite2\n",
    "reader = geolite2.reader()"
   ]
  },
  {
   "cell_type": "code",
   "execution_count": 93,
   "id": "65d9126e",
   "metadata": {
    "ExecuteTime": {
     "end_time": "2022-02-23T11:43:34.364299Z",
     "start_time": "2022-02-23T11:43:34.344213Z"
    }
   },
   "outputs": [],
   "source": [
    "# we will define a function for each attribute we are interested in \n",
    "# To avoid stopping the programm, return nan if ip can't be readed or can't access the attribute \n",
    "\n",
    "# accessing the continent: \n",
    "def IP_info_continent(ip):\n",
    "    try: x = reader.get(ip)\n",
    "    except ValueError: return np.nan\n",
    "    try: return x['continent']['names']['en'] if x is not None else np.nan\n",
    "    except KeyError: return np.nan\n",
    "    \n",
    "# accessing the country: \n",
    "def IP_info_country(ip):\n",
    "    try:  x = reader.get(ip)\n",
    "    except ValueError: return np.nan \n",
    "    try: return x['country']['names']['en'] if x is not None else np.nan\n",
    "    except KeyError:  return np.nan\n",
    "    \n",
    "# access the city: \n",
    "def IP_info_city(ip):\n",
    "    try: x = reader.get(ip)\n",
    "    except ValueError: return np.nan\n",
    "    try: return x['city']['names']['en'] if x is not None else np.nan\n",
    "    except KeyError: return np.nan\n",
    "\n",
    "# acces the latitude \n",
    "def IP_info_latitude(ip):\n",
    "    try:  x = reader.get(ip)\n",
    "    except ValueError:  return np.nan\n",
    "    try: return x['location']['latitude']  if x is not None else np.nan\n",
    "    except KeyError: return np.nan\n",
    "\n",
    "# access the longitude: \n",
    "def IP_info_longitude(ip):\n",
    "    try: x =reader.get(ip)\n",
    "    except ValueError: return np.nan\n",
    "    try: return x['location']['longitude']  if x is not None else np.nan\n",
    "    except KeyError: return np.nan\n",
    "    "
   ]
  },
  {
   "cell_type": "code",
   "execution_count": 100,
   "id": "ba352878",
   "metadata": {
    "ExecuteTime": {
     "end_time": "2022-02-23T11:51:40.168935Z",
     "start_time": "2022-02-23T11:51:35.476393Z"
    }
   },
   "outputs": [],
   "source": [
    "# now we call this functions to add columns with these attributes we have selected into new columns on our dataframe \n",
    "# we use the apply method \n",
    "ip_df['continent'] = ip_df['ip_address'].apply(IP_info_continent)\n",
    "ip_df['country'] = ip_df['ip_address'].apply(IP_info_country)\n",
    "ip_df['city'] = ip_df['ip_address'].apply(IP_info_city)\n",
    "ip_df['latitude'] = ip_df['ip_address'].apply(IP_info_latitude)\n",
    "ip_df['longitude'] = ip_df['ip_address'].apply(IP_info_longitude)"
   ]
  },
  {
   "cell_type": "code",
   "execution_count": 101,
   "id": "e4266add",
   "metadata": {
    "ExecuteTime": {
     "end_time": "2022-02-23T11:51:42.686527Z",
     "start_time": "2022-02-23T11:51:42.652356Z"
    }
   },
   "outputs": [
    {
     "data": {
      "text/html": [
       "<div>\n",
       "<style scoped>\n",
       "    .dataframe tbody tr th:only-of-type {\n",
       "        vertical-align: middle;\n",
       "    }\n",
       "\n",
       "    .dataframe tbody tr th {\n",
       "        vertical-align: top;\n",
       "    }\n",
       "\n",
       "    .dataframe thead th {\n",
       "        text-align: right;\n",
       "    }\n",
       "</style>\n",
       "<table border=\"1\" class=\"dataframe\">\n",
       "  <thead>\n",
       "    <tr style=\"text-align: right;\">\n",
       "      <th></th>\n",
       "      <th>ip_address</th>\n",
       "      <th>counts</th>\n",
       "      <th>continent</th>\n",
       "      <th>country</th>\n",
       "      <th>city</th>\n",
       "      <th>latitude</th>\n",
       "      <th>longitude</th>\n",
       "    </tr>\n",
       "  </thead>\n",
       "  <tbody>\n",
       "    <tr>\n",
       "      <th>0</th>\n",
       "      <td>66.249.76.216</td>\n",
       "      <td>46382</td>\n",
       "      <td>North America</td>\n",
       "      <td>United States</td>\n",
       "      <td>Mountain View</td>\n",
       "      <td>37.4192</td>\n",
       "      <td>-122.0574</td>\n",
       "    </tr>\n",
       "    <tr>\n",
       "      <th>1</th>\n",
       "      <td>80.28.221.123</td>\n",
       "      <td>14725</td>\n",
       "      <td>Europe</td>\n",
       "      <td>Spain</td>\n",
       "      <td>Torrejón de Ardoz</td>\n",
       "      <td>40.4554</td>\n",
       "      <td>-3.4697</td>\n",
       "    </tr>\n",
       "    <tr>\n",
       "      <th>3</th>\n",
       "      <td>217.125.71.222</td>\n",
       "      <td>5201</td>\n",
       "      <td>Europe</td>\n",
       "      <td>Spain</td>\n",
       "      <td>Seville</td>\n",
       "      <td>37.3824</td>\n",
       "      <td>-5.9761</td>\n",
       "    </tr>\n",
       "    <tr>\n",
       "      <th>4</th>\n",
       "      <td>66.249.75.148</td>\n",
       "      <td>3558</td>\n",
       "      <td>North America</td>\n",
       "      <td>United States</td>\n",
       "      <td>Mountain View</td>\n",
       "      <td>37.4192</td>\n",
       "      <td>-122.0574</td>\n",
       "    </tr>\n",
       "    <tr>\n",
       "      <th>5</th>\n",
       "      <td>162.243.192.191</td>\n",
       "      <td>2927</td>\n",
       "      <td>North America</td>\n",
       "      <td>United States</td>\n",
       "      <td>New York</td>\n",
       "      <td>40.7308</td>\n",
       "      <td>-73.9975</td>\n",
       "    </tr>\n",
       "    <tr>\n",
       "      <th>...</th>\n",
       "      <td>...</td>\n",
       "      <td>...</td>\n",
       "      <td>...</td>\n",
       "      <td>...</td>\n",
       "      <td>...</td>\n",
       "      <td>...</td>\n",
       "      <td>...</td>\n",
       "    </tr>\n",
       "    <tr>\n",
       "      <th>2916</th>\n",
       "      <td>84.123.150.27</td>\n",
       "      <td>1</td>\n",
       "      <td>Europe</td>\n",
       "      <td>Spain</td>\n",
       "      <td>Gandia</td>\n",
       "      <td>38.9667</td>\n",
       "      <td>-0.1833</td>\n",
       "    </tr>\n",
       "    <tr>\n",
       "      <th>2917</th>\n",
       "      <td>217.130.150.116</td>\n",
       "      <td>1</td>\n",
       "      <td>Europe</td>\n",
       "      <td>Spain</td>\n",
       "      <td>NaN</td>\n",
       "      <td>40.4172</td>\n",
       "      <td>-3.6840</td>\n",
       "    </tr>\n",
       "    <tr>\n",
       "      <th>2918</th>\n",
       "      <td>202.46.52.23</td>\n",
       "      <td>1</td>\n",
       "      <td>Asia</td>\n",
       "      <td>China</td>\n",
       "      <td>Shenzhen</td>\n",
       "      <td>22.5333</td>\n",
       "      <td>114.1333</td>\n",
       "    </tr>\n",
       "    <tr>\n",
       "      <th>2919</th>\n",
       "      <td>216.151.130.170</td>\n",
       "      <td>1</td>\n",
       "      <td>North America</td>\n",
       "      <td>United States</td>\n",
       "      <td>San Jose</td>\n",
       "      <td>37.4250</td>\n",
       "      <td>-121.9460</td>\n",
       "    </tr>\n",
       "    <tr>\n",
       "      <th>2920</th>\n",
       "      <td>206.198.5.33</td>\n",
       "      <td>1</td>\n",
       "      <td>North America</td>\n",
       "      <td>United States</td>\n",
       "      <td>Lincolnshire</td>\n",
       "      <td>42.1973</td>\n",
       "      <td>-87.9241</td>\n",
       "    </tr>\n",
       "  </tbody>\n",
       "</table>\n",
       "<p>2920 rows × 7 columns</p>\n",
       "</div>"
      ],
      "text/plain": [
       "           ip_address  counts      continent        country  \\\n",
       "0       66.249.76.216   46382  North America  United States   \n",
       "1       80.28.221.123   14725         Europe          Spain   \n",
       "3      217.125.71.222    5201         Europe          Spain   \n",
       "4       66.249.75.148    3558  North America  United States   \n",
       "5     162.243.192.191    2927  North America  United States   \n",
       "...               ...     ...            ...            ...   \n",
       "2916    84.123.150.27       1         Europe          Spain   \n",
       "2917  217.130.150.116       1         Europe          Spain   \n",
       "2918     202.46.52.23       1           Asia          China   \n",
       "2919  216.151.130.170       1  North America  United States   \n",
       "2920     206.198.5.33       1  North America  United States   \n",
       "\n",
       "                   city  latitude  longitude  \n",
       "0         Mountain View   37.4192  -122.0574  \n",
       "1     Torrejón de Ardoz   40.4554    -3.4697  \n",
       "3               Seville   37.3824    -5.9761  \n",
       "4         Mountain View   37.4192  -122.0574  \n",
       "5              New York   40.7308   -73.9975  \n",
       "...                 ...       ...        ...  \n",
       "2916             Gandia   38.9667    -0.1833  \n",
       "2917                NaN   40.4172    -3.6840  \n",
       "2918           Shenzhen   22.5333   114.1333  \n",
       "2919           San Jose   37.4250  -121.9460  \n",
       "2920       Lincolnshire   42.1973   -87.9241  \n",
       "\n",
       "[2920 rows x 7 columns]"
      ]
     },
     "execution_count": 101,
     "metadata": {},
     "output_type": "execute_result"
    }
   ],
   "source": [
    "ip_df"
   ]
  },
  {
   "cell_type": "markdown",
   "id": "fc5f5955",
   "metadata": {},
   "source": [
    "Let's check missing values: \n"
   ]
  },
  {
   "cell_type": "code",
   "execution_count": 102,
   "id": "d8c63c71",
   "metadata": {
    "ExecuteTime": {
     "end_time": "2022-02-23T11:52:46.498731Z",
     "start_time": "2022-02-23T11:52:46.476944Z"
    }
   },
   "outputs": [
    {
     "data": {
      "text/plain": [
       "ip_address      0\n",
       "counts          0\n",
       "continent       1\n",
       "country        15\n",
       "city          364\n",
       "latitude        1\n",
       "longitude       1\n",
       "dtype: int64"
      ]
     },
     "execution_count": 102,
     "metadata": {},
     "output_type": "execute_result"
    }
   ],
   "source": [
    "ip_df.isnull().sum()"
   ]
  },
  {
   "cell_type": "markdown",
   "id": "cdc727b5",
   "metadata": {
    "ExecuteTime": {
     "end_time": "2022-02-23T12:01:04.289507Z",
     "start_time": "2022-02-23T12:01:04.279067Z"
    }
   },
   "source": [
    "Now we can calculate the percentages of visits to the web from each continent: "
   ]
  },
  {
   "cell_type": "code",
   "execution_count": 119,
   "id": "aa422fc2",
   "metadata": {
    "ExecuteTime": {
     "end_time": "2022-02-23T12:12:18.458850Z",
     "start_time": "2022-02-23T12:12:18.434067Z"
    }
   },
   "outputs": [
    {
     "data": {
      "text/plain": [
       "continent\n",
       "Africa             0.1%\n",
       "Asia              2.98%\n",
       "Europe           66.29%\n",
       "North America    29.18%\n",
       "Oceania           0.03%\n",
       "South America      1.4%\n",
       "Name: counts, dtype: object"
      ]
     },
     "execution_count": 119,
     "metadata": {},
     "output_type": "execute_result"
    }
   ],
   "source": [
    "total = ip_df.counts.sum()\n",
    "# we group by continent and drop the one missing value in the 'continent' column\n",
    "ip_per_continent = ip_df.groupby('continent', dropna= True).sum()\n",
    "ip_per_continent_percent = ip_per_continent['counts'].apply(lambda x : str(round((x*100/total), 2)) + '%')\n",
    "ip_per_continent_percent"
   ]
  },
  {
   "cell_type": "markdown",
   "id": "02de5f05",
   "metadata": {},
   "source": [
    "We can see Europe has more than 65 % of connections, and between Europe and North America comes 95 % of the web traffic. "
   ]
  },
  {
   "cell_type": "markdown",
   "id": "a7350159",
   "metadata": {},
   "source": [
    "### - Exercici 3"
   ]
  },
  {
   "cell_type": "markdown",
   "id": "ef57d420",
   "metadata": {},
   "source": [
    "+ Mostra'm la teva creativitat, Sorprèn-me fes un pas més enllà amb l'anàlisi anterior."
   ]
  },
  {
   "cell_type": "markdown",
   "id": "c17b6811",
   "metadata": {},
   "source": [
    "We´ll create a world map with geopandas library to be able to see where most connections come from. "
   ]
  },
  {
   "cell_type": "code",
   "execution_count": 120,
   "id": "67426175",
   "metadata": {
    "ExecuteTime": {
     "end_time": "2022-02-23T12:12:24.906653Z",
     "start_time": "2022-02-23T12:12:24.468374Z"
    }
   },
   "outputs": [],
   "source": [
    "# import geopandas to create a map \n",
    "import geopandas as gpd\n",
    "countries = gpd.read_file(gpd.datasets.get_path(\"naturalearth_lowres\"))"
   ]
  },
  {
   "cell_type": "code",
   "execution_count": 125,
   "id": "93c28918",
   "metadata": {
    "ExecuteTime": {
     "end_time": "2022-02-23T12:18:35.454581Z",
     "start_time": "2022-02-23T12:18:35.118625Z"
    }
   },
   "outputs": [
    {
     "data": {
      "image/png": "[encoded data removed]",
      "text/plain": [
       "<Figure size 1296x1008 with 1 Axes>"
      ]
     },
     "metadata": {},
     "output_type": "display_data"
    }
   ],
   "source": [
    "fig, ax = plt.subplots(figsize=(18,14))\n",
    "fig.patch.set_facecolor('#82E0AA')\n",
    "ax.set_facecolor('#EAF2F8')\n",
    "# plot map on axis\n",
    "world = gpd.read_file(  \n",
    "     gpd.datasets.get_path(\"naturalearth_lowres\"))\n",
    "# use the counts column to define the size of the marker \n",
    "size = ip_df.counts/30\n",
    "world.plot(color=\"#F4D03F\", ax=ax)\n",
    "# plot points\n",
    "ip_df.plot(x=\"longitude\", y=\"latitude\", kind=\"scatter\", color = '#5B2C6F', alpha = 0.6, \n",
    "         s= size, ax=ax)\n",
    "ax.set_title('IP Connections from around the world', fontsize = 18)\n",
    "ax.grid(visible=True, alpha=0.7)\n",
    "plt.show()"
   ]
  },
  {
   "cell_type": "markdown",
   "id": "e7b1b7a1",
   "metadata": {},
   "source": [
    "We can see the distribution of the connections from around the world, since most of these come from Europe and Spain, we can zoom in these two areas to have a better look: "
   ]
  },
  {
   "cell_type": "code",
   "execution_count": 132,
   "id": "d09e0ade",
   "metadata": {
    "ExecuteTime": {
     "end_time": "2022-02-23T12:24:07.185293Z",
     "start_time": "2022-02-23T12:24:06.581870Z"
    }
   },
   "outputs": [
    {
     "data": {
      "image/png": "[encoded data removed]",
      "text/plain": [
       "<Figure size 1800x864 with 2 Axes>"
      ]
     },
     "metadata": {},
     "output_type": "display_data"
    }
   ],
   "source": [
    "fig = plt.figure()\n",
    "fig.patch.set_facecolor('#82E0AA')\n",
    "\n",
    "ax1 = fig.add_subplot(121)\n",
    "size = ip_df.counts/8\n",
    "world.plot(color=\"#F4D03F\", ax=ax1, figsize = (12,9))\n",
    "ip_df.plot(x=\"longitude\", y=\"latitude\", kind=\"scatter\", color = '#5B2C6F' , alpha = 0.8,\n",
    "           figsize = (25,12),s=size , ax=ax1)\n",
    "ax1.grid(visible=True, alpha=0.6)\n",
    "ax1.set_xlim([-25, 25])\n",
    "ax1.set_ylim([30, 65])\n",
    "ax1.set_facecolor('#EAF2F8')\n",
    "ax1.set_title('IP Connections from Europe', fontsize = 20)\n",
    "\n",
    "ax2 = fig.add_subplot(122)\n",
    "size = ip_df.counts/3\n",
    "world.plot(ax=ax2, color=\"#F4D03F\", figsize = (13,10))\n",
    "ip_df.plot(x=\"longitude\", y=\"latitude\", kind=\"scatter\", color = '#5B2C6F' , alpha = 0.6, \n",
    "           s= size, figsize= (25,12), ax=ax2)\n",
    "ax2.grid(visible=True, alpha=0.7)\n",
    "ax2.set_xlim([-10, 5])\n",
    "ax2.set_ylim([35, 45])\n",
    "ax2.set_title('IP connections from Spain', fontsize = 20)\n",
    "ax2.set_facecolor('#EAF2F8')\n",
    "plt.show()"
   ]
  },
  {
   "cell_type": "markdown",
   "id": "6d347e67",
   "metadata": {},
   "source": [
    "Now we can see where the traffic of the web comes from. If we want to see the name of each of these cities we can plot an interactive map, this exercise is continued in the notebook **'s04T01 interactive map' in the same repository.**"
   ]
  },
  {
   "cell_type": "code",
   "execution_count": 133,
   "id": "23a43336",
   "metadata": {
    "ExecuteTime": {
     "end_time": "2022-02-23T12:29:10.625739Z",
     "start_time": "2022-02-23T12:29:10.587538Z"
    }
   },
   "outputs": [],
   "source": [
    "#We will save this ip_df dataframe : \n",
    "ip_df.to_csv('ip_df.csv', index = False)"
   ]
  }
 ],
 "metadata": {
  "kernelspec": {
   "display_name": "Python 3 (ipykernel)",
   "language": "python",
   "name": "python3"
  },
  "language_info": {
   "codemirror_mode": {
    "name": "ipython",
    "version": 3
   },
   "file_extension": ".py",
   "mimetype": "text/x-python",
   "name": "python",
   "nbconvert_exporter": "python",
   "pygments_lexer": "ipython3",
   "version": "3.9.7"
  }
 },
 "nbformat": 4,
 "nbformat_minor": 5
}
